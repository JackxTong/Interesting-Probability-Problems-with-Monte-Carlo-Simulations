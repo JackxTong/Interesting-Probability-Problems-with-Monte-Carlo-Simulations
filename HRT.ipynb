{
 "cells": [
  {
   "cell_type": "markdown",
   "metadata": {},
   "source": [
    "Given two standard normal RVs: X & Y\n",
    "\n",
    "What is the probability that Y > 3 * X?\n",
    "\n",
    "What about this probability given X > 0?"
   ]
  },
  {
   "cell_type": "code",
   "execution_count": 1,
   "metadata": {},
   "outputs": [
    {
     "name": "stdout",
     "output_type": "stream",
     "text": [
      "0.500404 0.10355588897224306\n"
     ]
    }
   ],
   "source": [
    "import numpy as np\n",
    "n = 1000000\n",
    "\n",
    "X = np.random.randn(n)\n",
    "Y = np.random.randn(n)\n",
    "\n",
    "prob = (np.sum((Y > 3 * X) & (X>0)) / np.sum(X>0))\n",
    "\n",
    "print(np.sum(Y > 3 * X) / n, prob)"
   ]
  },
  {
   "cell_type": "code",
   "execution_count": 4,
   "metadata": {},
   "outputs": [
    {
     "data": {
      "text/plain": [
       "3.1415926534595506"
      ]
     },
     "execution_count": 4,
     "metadata": {},
     "output_type": "execute_result"
    }
   ],
   "source": [
    "import scipy.integrate as integrate\n",
    "import numpy as np\n",
    "\n",
    "# Define the function to integrate\n",
    "def integrand(x, y):\n",
    "    return np.exp(-0.5 * x**2) * np.exp(-0.5 * y**2)\n",
    "\n",
    "# Define the limits of integration for both x and y (for example, over a finite range)\n",
    "\n",
    "y_lower, y_upper = -np.inf, np.inf\n",
    "\n",
    "# Perform the double integral\n",
    "result, error = integrate.dblquad(integrand, y_lower, y_upper, lambda y: -np.inf, lambda y: y)\n",
    "\n",
    "result\n"
   ]
  },
  {
   "cell_type": "code",
   "execution_count": null,
   "metadata": {},
   "outputs": [],
   "source": []
  }
 ],
 "metadata": {
  "kernelspec": {
   "display_name": "Python 3",
   "language": "python",
   "name": "python3"
  },
  "language_info": {
   "codemirror_mode": {
    "name": "ipython",
    "version": 3
   },
   "file_extension": ".py",
   "mimetype": "text/x-python",
   "name": "python",
   "nbconvert_exporter": "python",
   "pygments_lexer": "ipython3",
   "version": "3.11.4"
  }
 },
 "nbformat": 4,
 "nbformat_minor": 2
}

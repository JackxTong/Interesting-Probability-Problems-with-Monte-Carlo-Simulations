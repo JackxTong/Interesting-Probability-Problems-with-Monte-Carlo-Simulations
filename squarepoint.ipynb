{
 "cells": [
  {
   "cell_type": "markdown",
   "metadata": {},
   "source": [
    "A and B each gamble on a lucky game: if rolls Head, win 3 times the bet amount, else just lose the bet.\n",
    "\n",
    "A bets 1/3 of her wealth every time, B bets 1/2 of his wealth every time. What is expected profit after 1000 games?"
   ]
  },
  {
   "cell_type": "code",
   "execution_count": 34,
   "metadata": {},
   "outputs": [
    {
     "data": {
      "text/plain": [
       "(5795620.188276811, 43002225.614707455)"
      ]
     },
     "execution_count": 34,
     "metadata": {},
     "output_type": "execute_result"
    }
   ],
   "source": [
    "import random\n",
    "\n",
    "a,b = [], []\n",
    "for i in range(10000):\n",
    "    A,B = 1, 1\n",
    "    for _ in range(100):\n",
    "        if random.randint(0,1) == 1:\n",
    "            A = A*5/3\n",
    "            B = 1/2 * B\n",
    "        else:\n",
    "            A = A * 2/3\n",
    "            B = 2 * B\n",
    "    a.append(A)\n",
    "    b.append(B)\n",
    "\n",
    "sum(a)/10000, sum(b)/10000\n"
   ]
  },
  {
   "cell_type": "code",
   "execution_count": 33,
   "metadata": {},
   "outputs": [
    {
     "data": {
      "text/plain": [
       "4909093465.297727"
      ]
     },
     "execution_count": 33,
     "metadata": {},
     "output_type": "execute_result"
    }
   ],
   "source": [
    "(5/4)**100"
   ]
  },
  {
   "cell_type": "markdown",
   "metadata": {},
   "source": [
    "Throw dice until 6. When a six is rolled, if this is the nth roll, receives payoff of n/6. \n",
    "\n",
    "What is the fair value?\n",
    "\n",
    "1/6 * 1/6 + 5/6 *1/6 * 2/6 + (5/6)^2 *1/6 * 3/6 + ... = 1"
   ]
  },
  {
   "cell_type": "code",
   "execution_count": 39,
   "metadata": {},
   "outputs": [
    {
     "data": {
      "text/plain": [
       "1.0005883333334071"
      ]
     },
     "execution_count": 39,
     "metadata": {},
     "output_type": "execute_result"
    }
   ],
   "source": [
    "pays = []\n",
    "N = 100000\n",
    "for _ in range(N):\n",
    "    count = 0\n",
    "    while random.randint(1,6) != 6:\n",
    "        count += 1\n",
    "    count += 1\n",
    "    payoff = count / 6\n",
    "    pays.append(payoff)\n",
    "sum(pays)/N\n"
   ]
  },
  {
   "cell_type": "markdown",
   "metadata": {},
   "source": [
    "Given that on both saturday and sunday, chance of raining is 0.2. \n",
    "\n",
    "The correlation between raining on saturday and sunday is 0.6. \n",
    "\n",
    "what is chance that at least one day rains?\n"
   ]
  },
  {
   "cell_type": "markdown",
   "metadata": {},
   "source": [
    "Corr = (E(XY) - E(X)E(Y)) / sqrt( var(x) * var(y) ) = 0.6\n",
    "\n",
    "Note var(X) = var(y) = 0.2 * 0.8 = 0.16\n",
    "\n",
    "so E(XY) - E(X)E(Y) = 0.6 * 0.16 = 0.096\n",
    "\n",
    "Note E(X)E(Y) = 0.2^2 = 0.04, so E(XY) = 0.136\n",
    "\n",
    "This is the chance of both day raining, so at least one day rain is 0.2+0.2-0.136 = 0.264"
   ]
  },
  {
   "cell_type": "code",
   "execution_count": 44,
   "metadata": {},
   "outputs": [
    {
     "data": {
      "text/plain": [
       "0.264858"
      ]
     },
     "execution_count": 44,
     "metadata": {},
     "output_type": "execute_result"
    }
   ],
   "source": [
    "import random\n",
    "\n",
    "p = 0.2  # Probability of rain on both Saturday and Sunday\n",
    "correlation = 0.6  # Correlation between raining on Saturday and Sunday\n",
    "N = 1000000  # Number of simulations\n",
    "\n",
    "def simulate_rain(p, correlation):\n",
    "    rain_saturday = random.random() < p\n",
    "    \n",
    "    if rain_saturday:\n",
    "        adjusted_p_sunday = p + correlation * (1 - p)\n",
    "    else:\n",
    "        adjusted_p_sunday = p - correlation * p\n",
    "    \n",
    "    rain_sunday = random.random() < adjusted_p_sunday\n",
    "    return rain_saturday, rain_sunday\n",
    "\n",
    "at_least_one_day_rain = 0\n",
    "\n",
    "for _ in range(N):\n",
    "    rain_saturday, rain_sunday = simulate_rain(p, correlation)\n",
    "    if rain_saturday or rain_sunday:\n",
    "        at_least_one_day_rain += 1\n",
    "\n",
    "expected_probability = at_least_one_day_rain / N\n",
    "expected_probability\n"
   ]
  },
  {
   "cell_type": "markdown",
   "metadata": {},
   "source": [
    "# Double data points Linear regression\n",
    "\n",
    "If we double all the data points for linear regression, what happens to beta, R^2 and t statistic?"
   ]
  },
  {
   "cell_type": "markdown",
   "metadata": {},
   "source": [
    "beta = cov(x, y) / var(x)\n",
    "\n",
    "If we double all data points, both cov and var would stay the same, so beta stays the same.\n",
    "\n",
    "New cov becomes\n",
    "\n",
    "$$\n",
    "\\text{Cov}_{\\text{new}}(x, y) = \\frac{1}{2n} \\sum_{i=1}^{2n} (x_i - \\bar{x})(y_i - \\bar{y})\n",
    "$$\n",
    "\n",
    "Similarly the new var stays the same.\n",
    "\n",
    "\n",
    "R^2 = 1-RSS/TSS, where TSS = sum(yi-E(y))^2 would double, and RSS would also double, so R2 stay the same.\n",
    "\n",
    "The t statistic and the SE is\n",
    "\n",
    "$$\n",
    "t = \\frac{\\hat{\\beta_1}}{\\text{SE}(\\hat{\\beta_1})}\n",
    "\\\\\n",
    "\\\\\n",
    "\\text{SE}(\\hat{\\beta_1}) = \\frac{\\sigma}{\\sqrt{\\sum (x_i - \\bar{x})^2}}\n",
    "\n",
    "\n",
    "$$\n",
    "\n",
    "So the SE drops by $ 1/ \\sqrt{2} $, so t-stat increases by $ \\sqrt{2} $"
   ]
  },
  {
   "cell_type": "markdown",
   "metadata": {},
   "source": [
    "# y ~ x vs x ~ y\n",
    "\n",
    "Let beta_1 be coeff for y~x, and alpha_1 for x~y\n",
    "\n",
    "$$\n",
    "\\beta_1 = \\frac{\\text{Cov}(x, y)}{\\text{Var}(x)}\\\\\n",
    "\\\\\n",
    "\\alpha_1 = \\frac{\\text{Cov}(x, y)}{\\text{Var}(y)}\n",
    "\\\\\n",
    "\\beta_1 \\alpha_1 = corr(x, y)^2\n",
    "$$\n",
    "\n",
    "Their product ranges from 0 to 1\n"
   ]
  },
  {
   "cell_type": "markdown",
   "metadata": {},
   "source": [
    "# y~x1, y~x2 vs y~x1+x2\n",
    "Given R^2 for y ~ x1 and y ~ x2, \n",
    "\n",
    "this is [coeff of multiple correlation](https://en.wikipedia.org/wiki/Coefficient_of_multiple_correlation)\n"
   ]
  },
  {
   "cell_type": "markdown",
   "metadata": {},
   "source": [
    "# Interpretation of R^2 and P-val\n",
    "\n",
    "R^2 represents the proportion of the variance in y explained by x\n",
    "\n",
    "Small p-val means we have evidence against null hypothesis: beta1 = 0, or we can believe there is a significant relationship between x and y.\n",
    "\n",
    "We can't conclude anything about linearity!"
   ]
  },
  {
   "cell_type": "markdown",
   "metadata": {},
   "source": [
    "# Interpret of heteroskedasticity and multicolinearity\n",
    "\n",
    "If the residuals have constant variance, the model's assumptions are met.\n",
    "\n",
    "Otherwise  the model's standard errors may be biased, leading to unreliable t-statistics and p-values\n",
    "\n",
    "Multicollinearity occurs when two or more independent variables in a regression model are highly correlated with each other"
   ]
  },
  {
   "cell_type": "markdown",
   "metadata": {},
   "source": [
    "# ATM query problem\n",
    "\n",
    "Given a list `amount` = [2,5,3,10] and `k`, the max amount a person can withdraw from an ATM in one single time, return the order of people taking out all their money.\n",
    "\n",
    "If a person couldn't withdraw all their amount in one take, they will auto line up at the end of the queue."
   ]
  },
  {
   "cell_type": "code",
   "execution_count": 45,
   "metadata": {},
   "outputs": [
    {
     "data": {
      "text/plain": [
       "[1, 3, 2, 4]"
      ]
     },
     "execution_count": 45,
     "metadata": {},
     "output_type": "execute_result"
    }
   ],
   "source": [
    "'''Brute force, worst time complexity O(max(amount)/k * n)'''\n",
    "from collections import deque\n",
    "\n",
    "def atm_withdrawal_order(amount, k):\n",
    "    n = len(amount)\n",
    "    queue = deque(range(n))  # queue holding indices of people\n",
    "    order = []  # final order of completion\n",
    "\n",
    "    while queue:\n",
    "        person = queue.popleft()  # take the person at the front of the queue\n",
    "        if amount[person] <= k:\n",
    "            order.append(person + 1)  # 1-based index\n",
    "        else:\n",
    "            amount[person] -= k\n",
    "            queue.append(person)\n",
    "\n",
    "    return order\n",
    "\n",
    "amount = [2,5,3,10]\n",
    "k = 2\n",
    "atm_withdrawal_order(amount, k)\n"
   ]
  },
  {
   "cell_type": "code",
   "execution_count": 51,
   "metadata": {},
   "outputs": [
    {
     "data": {
      "text/plain": [
       "[1, 3, 2, 4]"
      ]
     },
     "execution_count": 51,
     "metadata": {},
     "output_type": "execute_result"
    }
   ],
   "source": [
    "'''Faster method, sort the zipped tuple'''\n",
    "def atm_withdrawal_order(amount, k):\n",
    "    from math import ceil as c\n",
    "\n",
    "    # number of times each person need to take all the money\n",
    "    times = [c(a/k) for a in amount]\n",
    "    times_zipped = list(enumerate(times)) # zip the times with the person index\n",
    "    t = sorted(times_zipped, key=lambda x: x[1]) # sort by times\n",
    "    return [i[0]+1 for i in t] # index+1 so that 0-index means 1st person \n",
    "\n",
    "amount = [2,5,3,10]\n",
    "k = 2\n",
    "atm_withdrawal_order(amount, k)"
   ]
  },
  {
   "cell_type": "markdown",
   "metadata": {},
   "source": [
    "# Max of 3 dice throws\n",
    "\n",
    "Let M = max(X1, X2, X3)\n",
    "\n",
    "Then P(M=1) = p(X1<2)^3 = 1/216 = 0.004\n",
    "\n",
    "P(M=2) = p(X1<3)^3 - p(M=1) = 1/27 - 1/216 = 7/216 = 0.032\n",
    "\n",
    "Similarly we get p(M=3) = 19/216 = 0.088\n",
    "\n",
    "p(M=4) = 37/216 = 0.171, and so on"
   ]
  },
  {
   "cell_type": "code",
   "execution_count": 13,
   "metadata": {},
   "outputs": [
    {
     "name": "stdout",
     "output_type": "stream",
     "text": [
      "the mean 4.923\n"
     ]
    },
    {
     "data": {
      "text/plain": [
       "Counter({6: 409, 5: 280, 4: 185, 3: 83, 2: 37, 1: 6})"
      ]
     },
     "execution_count": 13,
     "metadata": {},
     "output_type": "execute_result"
    }
   ],
   "source": [
    "import random\n",
    "xi = []\n",
    "for _ in range(1000):\n",
    "    x = max([random.randint(1,6) for _ in range(3)])\n",
    "    xi.append(x)\n",
    "\n",
    "print(\"the mean\", sum(xi)/1000)\n",
    "from collections import Counter\n",
    "frequency = Counter(xi)\n",
    "frequency\n"
   ]
  },
  {
   "cell_type": "markdown",
   "metadata": {},
   "source": [
    "# Bayesian posterior on fairness of coins\n",
    "\n",
    "Consider 7 coins, 3 fair coins, 2 coins with only heads, 2 coins with only tails. \n",
    "\n",
    "We draw 3 coins and observed 3 heads. What is the chance we drew 3 fair coins?"
   ]
  },
  {
   "cell_type": "markdown",
   "metadata": {},
   "source": [
    "Let A,B,C denote fair, only-head and only-tails.\n",
    "\n",
    "We are interested in p(AAA | x=HHH), which we can infer with bayesian\n",
    "\n",
    "p(x=HHH | AAA) * p(AAA) = 1/(7 choose 3) * 1/8 = 1/280\n",
    "\n",
    "p(AAA) = p(x| AAA) * p(AAA) + p(x|AAB) * p(AAB) + p(x|ABB) * p(ABB)\n",
    "\n",
    "= 1/280 + 6/(7 choose 3) * 1/4 + 3/(7 choose 3) * 1/2 = 1/280 + 3/70 + 3/70\n",
    "\n",
    "So we have 1/25 as the answer"
   ]
  },
  {
   "cell_type": "markdown",
   "metadata": {},
   "source": [
    "# Parents want equal number of boys and girls\n",
    "\n",
    "Parents want to stop giving birth until they have equal number of boys and girls.\n",
    "\n",
    "The expected value is inf, this is divergent series.\n",
    "\n",
    "sum (2n) * (1/2)^(2n) * (2n choose n)"
   ]
  },
  {
   "cell_type": "markdown",
   "metadata": {},
   "source": []
  }
 ],
 "metadata": {
  "kernelspec": {
   "display_name": "Python 3",
   "language": "python",
   "name": "python3"
  },
  "language_info": {
   "codemirror_mode": {
    "name": "ipython",
    "version": 3
   },
   "file_extension": ".py",
   "mimetype": "text/x-python",
   "name": "python",
   "nbconvert_exporter": "python",
   "pygments_lexer": "ipython3",
   "version": "3.11.4"
  }
 },
 "nbformat": 4,
 "nbformat_minor": 2
}

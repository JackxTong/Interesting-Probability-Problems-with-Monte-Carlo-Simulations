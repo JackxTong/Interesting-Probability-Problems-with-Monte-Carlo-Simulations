{
 "cells": [
  {
   "cell_type": "markdown",
   "metadata": {},
   "source": [
    "# 1. Area of the box\n",
    "\n",
    "Given a box of cables, each area is rows x cols, choose a x a groups, where a <= min(rows, cols)\n",
    "\n",
    "Determine number of ways cables can be divided.\n",
    "\n",
    "e.g. rows = 5, cols = 3\n",
    "\n",
    "15 ways to choose 1x1, 4*2=8 ways to choose 2x2, 1*3=3 ways to choose 3x3, so 26 in total.\n",
    "\n",
    "The function takes as input `queries`, a 2D array with each element represents box dimensions\n",
    "\n",
    "e.g. queries = [[2, 1], [2, 3]], should return [2, 8]\n",
    "\n"
   ]
  },
  {
   "cell_type": "code",
   "execution_count": 1,
   "metadata": {},
   "outputs": [],
   "source": [
    "def numberOfWays(queries):\n",
    "    results = []\n",
    "    \n",
    "    for q in queries:\n",
    "        rows, columns = q\n",
    "        total = 0\n",
    "        # Calculate the minimum of rows and columns for possible square sizes\n",
    "        min_side = min(rows, columns)\n",
    "        \n",
    "        # Iterate over all possible sizes of the square (1x1, 2x2, ..., min_side x min_side)\n",
    "        for a in range(1, min_side + 1):\n",
    "            total += (rows - a + 1) * (columns - a + 1)\n",
    "        \n",
    "        results.append(total)\n",
    "    \n",
    "    return results"
   ]
  },
  {
   "cell_type": "markdown",
   "metadata": {},
   "source": [
    "### 2 Given 3 vertices of triangles, and given 2 other points p and q, check if the triangle is a valid triangle (if not return 0). Then check if p is inside and if q is inside\n"
   ]
  },
  {
   "cell_type": "code",
   "execution_count": 2,
   "metadata": {},
   "outputs": [],
   "source": [
    "def pointsBelong(x1, y1, x2, y2, x3, y3, xp, yp, xq, yq):\n",
    "    def dist(x1, y1, x2, y2):\n",
    "        return math.sqrt((x2 - x1) ** 2 + (y2 - y1) ** 2)\n",
    "    ab = dist(x1, y1, x2, y2)\n",
    "    bc = dist(x2, y2, x3, y3)\n",
    "    ac = dist(x1, y1, x3, y3)\n",
    "\n",
    "    if not (ab + bc > ac and bc + ac > ab and ab + ac > bc):\n",
    "        return 0\n",
    "        \n",
    "    def area(x1, y1, x2, y2, x3, y3):\n",
    "        return abs(x1 * (y2 - y3) + x2 * (y3 - y1) + x3 * (y1 - y2)) / 2.0\n",
    "\n",
    "    main_area = area(x1, y1, x2, y2, x3, y3)\n",
    "    area_p1 = area(xp, yp, x2, y2, x3, y3)\n",
    "    area_p2 = area(x1, y1, xp, yp, x3, y3)\n",
    "    area_p3 = area(x1, y1, x2, y2, xp, yp)\n",
    "    area_q1 = area(xq, yq, x2, y2, x3, y3)\n",
    "    area_q2 = area(x1, y1, xq, yq, x3, y3)\n",
    "    area_q3 = area(x1, y1, x2, y2, xq, yq)\n",
    "    if (area_p1 + area_p2 + area_p3) == main_area: # p is inside\n",
    "        if (area_q1 + area_q2 + area_q3) == main_area: # q is inside\n",
    "            return 3\n",
    "        else:\n",
    "            return 1\n",
    "    elif (area_q1 + area_q2 + area_q3) == main_area:\n",
    "        return 2\n",
    "    else:\n",
    "        return 4"
   ]
  },
  {
   "cell_type": "markdown",
   "metadata": {},
   "source": [
    "### 3. Probability and Statistics - Movies\n",
    "\n",
    "There are 5 movie CDs. Two people A and B have a preference order among the 5 movies that the other person does not know. The distribution of preference order is uniform for both the persons and is independent among the two. They both do the following. A removes two of his least preferred movies out of the five movies. B then removes two of his least preferred movies from the remaining three movies. The movie which remains at the end is the one that they watch. What is the probability of neither of them getting to watch their favorite movie?\n",
    "\n",
    "4/15 = 0.2666"
   ]
  },
  {
   "cell_type": "code",
   "execution_count": 7,
   "metadata": {},
   "outputs": [
    {
     "name": "stdout",
     "output_type": "stream",
     "text": [
      "Estimated probability after 1000000 simulations: 0.267438\n"
     ]
    }
   ],
   "source": [
    "import random\n",
    "\n",
    "# Function to simulate the process\n",
    "def simulate_movie_selection():\n",
    "    # List of movies represented by 5 integers [1, 2, 3, 4, 5]\n",
    "    movies = [1, 2, 3, 4, 5]\n",
    "    \n",
    "    # Person A's and Person B's random preference orders\n",
    "    A_preferences = random.sample(movies, len(movies))\n",
    "    B_preferences = random.sample(movies, len(movies))\n",
    "    \n",
    "    A_remaining = A_preferences[:3]  # Top 3 preferred movies remain\n",
    "    \n",
    "    final_movie = min(A_remaining, key=lambda movie: B_preferences.index(movie))\n",
    "    \n",
    "    return final_movie != A_preferences[0] and final_movie != B_preferences[0]\n",
    "\n",
    "def simulate_n_times(N):\n",
    "    favorable_outcomes = 0\n",
    "    \n",
    "    for _ in range(N):\n",
    "        if simulate_movie_selection():\n",
    "            favorable_outcomes += 1\n",
    "    \n",
    "    probability = favorable_outcomes / N\n",
    "    return probability\n",
    "\n",
    "\n",
    "N = 1000000\n",
    "estimated_probability = simulate_n_times(N)\n",
    "print(f\"Estimated probability after {N} simulations: {estimated_probability}\")\n"
   ]
  },
  {
   "cell_type": "markdown",
   "metadata": {},
   "source": [
    "### Random point chosen on unit disk, expected distance to center?"
   ]
  },
  {
   "cell_type": "code",
   "execution_count": 8,
   "metadata": {},
   "outputs": [
    {
     "data": {
      "text/plain": [
       "0.6669934427253252"
      ]
     },
     "execution_count": 8,
     "metadata": {},
     "output_type": "execute_result"
    }
   ],
   "source": [
    "import numpy as np\n",
    "\n",
    "# Number of random points to simulate\n",
    "num_points = 1000000\n",
    "\n",
    "\n",
    "r = np.sqrt(np.random.uniform(0, 1, num_points))  # sqrt to ensure uniform area distribution\n",
    "theta = np.random.uniform(0, 2 * np.pi, num_points)\n",
    "\n",
    "np.mean(r)"
   ]
  },
  {
   "cell_type": "markdown",
   "metadata": {},
   "source": [
    "### Show det(I + AB) = det(I + BA)\n",
    "\n",
    "Given A and B, consider some block matrix M given by\n",
    "\n",
    "$$\n",
    "M = \\begin{pmatrix} I & A \\\\ B & I \\end{pmatrix}\n",
    "\\\\\n",
    "\\\\\n",
    "\\\\\n",
    "\\det(M) = \\det(I - BA)\n",
    "\n",
    "$$\n",
    "\n",
    "Clearly\n",
    "\n",
    "$$\n",
    "M^T = \\begin{pmatrix} I & B \\\\ A & I \\end{pmatrix}\n",
    "\\\\\n",
    "\\\\\n",
    "\\det(M^T) = \\det(I - AB) = \\det(M)\n",
    "$$"
   ]
  },
  {
   "cell_type": "markdown",
   "metadata": {},
   "source": [
    "### 8. Probability and Statistics - Modified Gene\n",
    "\n",
    "A modified gene occurs with a probability of 0.5% in the population. There is a test for the modified gene. If a gene is modified, the test always returns a positive. If the gene is not modified, the test returns a false positive 7% of the time. A random gene is tested, and it returns a positive. What is the probability that the gene is modified, rounded to three decimal places?"
   ]
  },
  {
   "cell_type": "code",
   "execution_count": 9,
   "metadata": {},
   "outputs": [
    {
     "data": {
      "text/plain": [
       "0.06697923643670461"
      ]
     },
     "execution_count": 9,
     "metadata": {},
     "output_type": "execute_result"
    }
   ],
   "source": [
    "1/(1+199*0.07)"
   ]
  },
  {
   "cell_type": "markdown",
   "metadata": {},
   "source": [
    "### 9.  Calculus - Partial Fractions Decomposition\n",
    "\n",
    "Using the method of partial fractions to decompose:\n",
    "$$\n",
    "\\frac{2}{(x+2)(x^2 + x + 1)}\n",
    "$$\n",
    "\n",
    "\n",
    "Ans:\n",
    "$$\n",
    "\\frac{2}{3(x+2)} - \\frac{2x+1}{3(x^2 + x + 1)} + \\frac{1}{x^2 + x + 1}\n",
    "$$\n",
    "\n"
   ]
  },
  {
   "cell_type": "markdown",
   "metadata": {},
   "source": [
    "### 10. Linear Algebra: Formula 4\n",
    "\n",
    "Let \n",
    "$$\n",
    "A = \\begin{pmatrix} 1 & 3 \\\\ 1 & -1 \\\\ 1 & 1 \\end{pmatrix}, \\quad B = \\begin{pmatrix} 5 \\\\ 1 \\\\ 0 \\end{pmatrix}\n",
    "$$\n",
    "\n",
    "Find the least-squares solution to the equation \\( A x = B \\).\n",
    "\n",
    "ans: (1 1)\n"
   ]
  },
  {
   "cell_type": "markdown",
   "metadata": {},
   "source": [
    "### 11. Linear Algebra - Car Rental Service\n",
    "\n",
    "In a large city, a car rental company has three locations: the Airport, the City, and the Suburbs. You have data on which location the cars are returned daily:\n",
    "\n",
    "Rented at Airport: 2% are returned to the City and 25% to the Suburbs. The rest are returned to the Airport.\n",
    "Rented in City: 10% are returned to the Airport, 10% are returned to the Suburbs. The rest are returned to the City.\n",
    "Rented in Suburbs: 25% are returned to the Airport and 2% to the City. The rest are returned to the Suburbs.\n",
    "If initially there are 35 cars at the Airport, 150 in the City, and 35 in the Suburbs, what is the long-term distribution of the cars?"
   ]
  },
  {
   "cell_type": "code",
   "execution_count": 13,
   "metadata": {},
   "outputs": [
    {
     "name": "stdout",
     "output_type": "stream",
     "text": [
      "(proportions): [0.45454545 0.09090909 0.45454545]\n",
      "\n",
      "Long-term cars (actual counts): [100.  20. 100.]\n"
     ]
    }
   ],
   "source": [
    "import numpy as np\n",
    "\n",
    "P = np.array([[0.73, 0.02, 0.25],\n",
    "              [0.1, 0.80, 0.1],\n",
    "              [0.25, 0.02, 0.73]])\n",
    "\n",
    "# Initial distribution of cars\n",
    "S0 = np.array([35, 150, 35])\n",
    "S0 = S0 / np.sum(S0)\n",
    "distribution = S0\n",
    "\n",
    "for i in range(1000):\n",
    "    distribution = np.dot(distribution, P)\n",
    "\n",
    "print(\"(proportions):\", distribution)\n",
    "\n",
    "total_cars = 35 + 150 + 35\n",
    "distribution * total_cars\n",
    "\n",
    "print(\"\\nLong-term cars (actual counts):\", distribution * total_cars)\n"
   ]
  },
  {
   "cell_type": "code",
   "execution_count": null,
   "metadata": {},
   "outputs": [],
   "source": []
  }
 ],
 "metadata": {
  "kernelspec": {
   "display_name": "Python 3",
   "language": "python",
   "name": "python3"
  },
  "language_info": {
   "codemirror_mode": {
    "name": "ipython",
    "version": 3
   },
   "file_extension": ".py",
   "mimetype": "text/x-python",
   "name": "python",
   "nbconvert_exporter": "python",
   "pygments_lexer": "ipython3",
   "version": "3.11.4"
  }
 },
 "nbformat": 4,
 "nbformat_minor": 2
}

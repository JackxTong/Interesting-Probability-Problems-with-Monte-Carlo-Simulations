{
 "cells": [
  {
   "cell_type": "markdown",
   "metadata": {},
   "source": [
    "Given sharpe ratio $S1$ and $S2$\n",
    "\n",
    "$S_i = R_i / \\sigma_i$, or returns over standard deviation\n",
    "\n",
    "Given assets with returns $\\mu = (R_1, R_2, ... ) $, with covariance matrix $\\sum$\n",
    "\n",
    "The Optimal sharpe ratio is given by $ \\sqrt{\\mu^T \\Sigma^{-1} \\mu} $\n",
    "\n",
    "With corresponding allocation weights $ \\omega^* = \\frac{\\Sigma^{-1} \\mu}{\\mathbf{1}^T \\Sigma^{-1} \\mu} $\n",
    "\n",
    "In our case with just two assets, \n",
    "\n",
    "$$\n",
    "S^* = \\sqrt{ R_1^2 / \\sigma_1 ^2 + R_2^2 /\\sigma_2^2} \\\\\n",
    "    = \\sqrt{S_1^2 + S_2^2}\n",
    "$$\n",
    "\n",
    "\n"
   ]
  },
  {
   "cell_type": "markdown",
   "metadata": {},
   "source": []
  }
 ],
 "metadata": {
  "kernelspec": {
   "display_name": "Python 3",
   "language": "python",
   "name": "python3"
  },
  "language_info": {
   "codemirror_mode": {
    "name": "ipython",
    "version": 3
   },
   "file_extension": ".py",
   "mimetype": "text/x-python",
   "name": "python",
   "nbconvert_exporter": "python",
   "pygments_lexer": "ipython3",
   "version": "3.11.4"
  }
 },
 "nbformat": 4,
 "nbformat_minor": 2
}

{
 "cells": [
  {
   "cell_type": "markdown",
   "metadata": {},
   "source": [
    "Students get home, 4 blocks, each block equally likely to go forward or backward.\n",
    "\n",
    "Each block takes 7 minutes.\n",
    "\n",
    "Chance of getting home within 30 minutes?"
   ]
  },
  {
   "cell_type": "code",
   "execution_count": 1,
   "metadata": {},
   "outputs": [
    {
     "name": "stdout",
     "output_type": "stream",
     "text": [
      "0.93747\n"
     ]
    }
   ],
   "source": [
    "import random\n",
    "\n",
    "def simulate_walk(threshold_time=30, block_time=7, num_blocks=4, num_simulations=100000):\n",
    "    over_threshold = 0\n",
    "\n",
    "    for _ in range(num_simulations):\n",
    "        position = 0  # Start at University\n",
    "        time_taken = 0\n",
    "\n",
    "        while position < num_blocks:\n",
    "            coin_flip = random.choice(['H', 'T'])\n",
    "            if coin_flip == 'H':\n",
    "                position += 1  # Move forward\n",
    "            elif position > 0:\n",
    "                position -= 1  # Move backward if not at the start\n",
    "\n",
    "            time_taken += block_time  # Add time for each block move\n",
    "\n",
    "            if time_taken > threshold_time:\n",
    "                over_threshold += 1\n",
    "                break  # No need to continue the simulation if already over the threshold\n",
    "\n",
    "    return over_threshold / num_simulations\n",
    "\n",
    "# Simulate the probability\n",
    "probability = simulate_walk()\n",
    "print(probability)\n"
   ]
  },
  {
   "cell_type": "code",
   "execution_count": null,
   "metadata": {},
   "outputs": [],
   "source": []
  }
 ],
 "metadata": {
  "kernelspec": {
   "display_name": "Python 3",
   "language": "python",
   "name": "python3"
  },
  "language_info": {
   "codemirror_mode": {
    "name": "ipython",
    "version": 3
   },
   "file_extension": ".py",
   "mimetype": "text/x-python",
   "name": "python",
   "nbconvert_exporter": "python",
   "pygments_lexer": "ipython3",
   "version": "3.11.4"
  }
 },
 "nbformat": 4,
 "nbformat_minor": 2
}

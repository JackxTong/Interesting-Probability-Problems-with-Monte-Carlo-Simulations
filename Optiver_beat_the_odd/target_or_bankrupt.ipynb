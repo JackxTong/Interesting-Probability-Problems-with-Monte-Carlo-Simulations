{
 "cells": [
  {
   "cell_type": "code",
   "execution_count": 1,
   "metadata": {},
   "outputs": [
    {
     "name": "stdout",
     "output_type": "stream",
     "text": [
      "The probability of leaving with $20 is approximately 0.0183\n"
     ]
    }
   ],
   "source": [
    "# Parameters\n",
    "starting_money = 10\n",
    "target_money = 20\n",
    "\n",
    "import random\n",
    "\n",
    "def coin_flip():\n",
    "    return random.random() < 0.4  # True for heads (win), False for tails (lose)\n",
    "\n",
    "def simulate_game(starting_money, target_money):\n",
    "    money = starting_money\n",
    "    while money > 0 and money < target_money:\n",
    "        bet = 1\n",
    "        if coin_flip():\n",
    "            money += bet  # Win: gain $1\n",
    "        else:\n",
    "            money -= bet  # Lose: lose $1\n",
    "    return money == target_money  # Returns True if we reached the target, False if bankrupt\n",
    "\n",
    "def run_simulation(starting_money, target_money, num_simulations):\n",
    "    wins = 0\n",
    "    for _ in range(num_simulations):\n",
    "        if simulate_game(starting_money, target_money):\n",
    "            wins += 1\n",
    "    probability = wins / num_simulations\n",
    "    return probability\n",
    "\n",
    "num_simulations = 10000  # Number of simulations to run\n",
    "\n",
    "# Run the simulation and calculate the probability of success\n",
    "probability_of_winning = run_simulation(starting_money, target_money, num_simulations)\n",
    "print(f\"The probability of leaving with ${target_money} is approximately {probability_of_winning:.4f}\")\n"
   ]
  },
  {
   "cell_type": "code",
   "execution_count": null,
   "metadata": {},
   "outputs": [],
   "source": []
  }
 ],
 "metadata": {
  "kernelspec": {
   "display_name": "Python 3",
   "language": "python",
   "name": "python3"
  },
  "language_info": {
   "codemirror_mode": {
    "name": "ipython",
    "version": 3
   },
   "file_extension": ".py",
   "mimetype": "text/x-python",
   "name": "python",
   "nbconvert_exporter": "python",
   "pygments_lexer": "ipython3",
   "version": "3.11.4"
  }
 },
 "nbformat": 4,
 "nbformat_minor": 2
}

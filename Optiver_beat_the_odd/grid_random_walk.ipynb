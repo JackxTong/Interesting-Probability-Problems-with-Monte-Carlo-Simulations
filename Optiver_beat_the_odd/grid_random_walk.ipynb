{
 "cells": [
  {
   "cell_type": "markdown",
   "metadata": {},
   "source": [
    "Two people start at opposite corners of a 4x4 grid. Person A starts on the bottom-left node. Person B starts on the top-right node.\n",
    "\n",
    "Every second, Person A will randomly move either one edge to the right or one edge up. At the same time, Person B will randomly move either one edge to the left or one edge down. Each person must always move each second, and for example, if Person A cannot move right anymore, they must move up.\n",
    "\n",
    "What is the probability that A and B will never share the same position at some point?"
   ]
  },
  {
   "cell_type": "code",
   "execution_count": 6,
   "metadata": {},
   "outputs": [
    {
     "data": {
      "text/plain": [
       "0.6934"
      ]
     },
     "execution_count": 6,
     "metadata": {},
     "output_type": "execute_result"
    }
   ],
   "source": [
    "import random\n",
    "\n",
    "GRID_SIZE = 4\n",
    "\n",
    "# Possible moves for Person A and Person B\n",
    "MOVES_A = [[1, 0], [0, 1]]  # Right or Up\n",
    "MOVES_B = [[-1, 0], [0, -1]]  # Left or Down\n",
    "\n",
    "def simulate_meeting():\n",
    "    pos_a = [0, 0]\n",
    "    pos_b = [GRID_SIZE - 1, GRID_SIZE - 1]\n",
    "\n",
    "    while pos_a != [GRID_SIZE - 1, GRID_SIZE - 1] or pos_b != [0, 0]:\n",
    "        if pos_a[0] == GRID_SIZE-1: # can only move up now\n",
    "            pos_a[1] += 1\n",
    "        elif pos_a[1] == GRID_SIZE-1: # can only move right now\n",
    "            pos_a[0] += 1\n",
    "        else:\n",
    "            move_a = random.choice(MOVES_A)\n",
    "            pos_a = [pos_a[0] + move_a[0], pos_a[1] + move_a[1]]\n",
    "\n",
    "        if pos_b[0] == 0: # can only move down now\n",
    "            pos_b[1] -= 1\n",
    "        elif pos_b[1] == 0: # can only move left now\n",
    "            pos_b[0] -= 1\n",
    "        else:\n",
    "            move_b = random.choice(MOVES_B)\n",
    "            pos_b = [pos_b[0] + move_b[0], pos_b[1] + move_b[1]]\n",
    "\n",
    "        # Check if A and B are on the same position\n",
    "        if pos_a == pos_b:\n",
    "            return False  # They met at some point\n",
    "    \n",
    "    return True  # They never met\n",
    "\n",
    "def estimate_probability(simulations=10000):\n",
    "    no_meeting_count = 0\n",
    "    for _ in range(simulations):\n",
    "        if simulate_meeting():\n",
    "            no_meeting_count += 1\n",
    "    return no_meeting_count / simulations\n",
    "\n",
    "\n",
    "estimate_probability()\n"
   ]
  },
  {
   "cell_type": "code",
   "execution_count": 9,
   "metadata": {},
   "outputs": [
    {
     "name": "stdout",
     "output_type": "stream",
     "text": [
      "0.687\n",
      "0.693\n",
      "0.686\n",
      "0.6842\n",
      "0.6917\n"
     ]
    }
   ],
   "source": [
    "for _ in range(5):    \n",
    "    print(estimate_probability())"
   ]
  },
  {
   "cell_type": "code",
   "execution_count": null,
   "metadata": {},
   "outputs": [],
   "source": []
  }
 ],
 "metadata": {
  "kernelspec": {
   "display_name": "Python 3",
   "language": "python",
   "name": "python3"
  },
  "language_info": {
   "codemirror_mode": {
    "name": "ipython",
    "version": 3
   },
   "file_extension": ".py",
   "mimetype": "text/x-python",
   "name": "python",
   "nbconvert_exporter": "python",
   "pygments_lexer": "ipython3",
   "version": "3.11.4"
  }
 },
 "nbformat": 4,
 "nbformat_minor": 2
}

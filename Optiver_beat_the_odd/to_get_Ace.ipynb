{
 "cells": [
  {
   "cell_type": "markdown",
   "metadata": {},
   "source": [
    "How many times to draw from poker till we get Ace?\n",
    "\n",
    "Mathematically this is just (52-4)/5 = 9.6\n",
    "\n",
    "As all non-Ace cards are divided into 5 piles by the 4 Aces.\n",
    "\n",
    "Then it's 10.6 if we count the Ace card itself"
   ]
  },
  {
   "cell_type": "code",
   "execution_count": 2,
   "metadata": {},
   "outputs": [
    {
     "name": "stdout",
     "output_type": "stream",
     "text": [
      "Average number of cards needed to deal: 10.6104\n"
     ]
    }
   ],
   "source": [
    "import random\n",
    "\n",
    "def simulate_game():\n",
    "    deck = ['A'] * 4 + ['Other'] * 48  # 4 aces and 48 non-aces\n",
    "    random.shuffle(deck)\n",
    "    \n",
    "    ace_count = 0\n",
    "    cards_dealt = 0\n",
    "    \n",
    "    for card in deck:\n",
    "        cards_dealt += 1\n",
    "        if card == 'A':\n",
    "            break\n",
    "            \n",
    "    return cards_dealt\n",
    "\n",
    "num_simulations = 100000\n",
    "results = [simulate_game() for _ in range(num_simulations)]\n",
    "\n",
    "average_cards_dealt = sum(results) / num_simulations\n",
    "\n",
    "print(f\"Average number of cards needed to deal: {average_cards_dealt}\")\n"
   ]
  },
  {
   "cell_type": "code",
   "execution_count": null,
   "metadata": {},
   "outputs": [],
   "source": []
  }
 ],
 "metadata": {
  "kernelspec": {
   "display_name": "Python 3",
   "language": "python",
   "name": "python3"
  },
  "language_info": {
   "codemirror_mode": {
    "name": "ipython",
    "version": 3
   },
   "file_extension": ".py",
   "mimetype": "text/x-python",
   "name": "python",
   "nbconvert_exporter": "python",
   "pygments_lexer": "ipython3",
   "version": "3.11.4"
  }
 },
 "nbformat": 4,
 "nbformat_minor": 2
}

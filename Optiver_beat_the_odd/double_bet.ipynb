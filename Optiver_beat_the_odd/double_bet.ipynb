{
 "cells": [
  {
   "cell_type": "markdown",
   "metadata": {},
   "source": [
    "The game strategy is the classic \"Martingale\" strategy where the player doubles their bet after every loss.\n",
    "\n",
    "\n",
    "Starting bet is $1, and the player doubles their bet after each loss until they win.\n",
    "\n",
    "Giving a starting bankroll is $63, what's the expected profit?\n"
   ]
  },
  {
   "cell_type": "code",
   "execution_count": 23,
   "metadata": {},
   "outputs": [
    {
     "data": {
      "text/plain": [
       "-2.97619"
      ]
     },
     "execution_count": 23,
     "metadata": {},
     "output_type": "execute_result"
    }
   ],
   "source": [
    "\n",
    "import random\n",
    "\n",
    "def martingale_strategy(bankroll, initial_bet=1):\n",
    "    bet = initial_bet\n",
    "    while bankroll >= bet:\n",
    "        bankroll -= bet\n",
    "        toss_result = random.choice([0, 1])\n",
    "        # print(toss_result, bankroll)\n",
    "        if toss_result == 1:  # Game ends\n",
    "            return bankroll + bet\n",
    "        else:\n",
    "            bet *= 2\n",
    "\n",
    "    return bankroll\n",
    "\n",
    "bankroll = 63\n",
    "profits = []\n",
    "N = 100000\n",
    "for _ in range(N):\n",
    "    profits.append(martingale_strategy(bankroll) - bankroll)\n",
    "\n",
    "sum(profits)/N\n"
   ]
  }
 ],
 "metadata": {
  "kernelspec": {
   "display_name": "Python 3",
   "language": "python",
   "name": "python3"
  },
  "language_info": {
   "codemirror_mode": {
    "name": "ipython",
    "version": 3
   },
   "file_extension": ".py",
   "mimetype": "text/x-python",
   "name": "python",
   "nbconvert_exporter": "python",
   "pygments_lexer": "ipython3",
   "version": "3.11.4"
  }
 },
 "nbformat": 4,
 "nbformat_minor": 2
}

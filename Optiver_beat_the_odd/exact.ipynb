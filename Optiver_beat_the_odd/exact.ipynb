{
 "cells": [
  {
   "cell_type": "markdown",
   "metadata": {},
   "source": [
    "Throw fair coin, if head +1 else -1. Game ends if target reached or gone bankrupt\n",
    "\n",
    "Starting from 100, chance of reaching exactly to 100 after 10 days?"
   ]
  },
  {
   "cell_type": "code",
   "execution_count": 1,
   "metadata": {},
   "outputs": [
    {
     "data": {
      "text/plain": [
       "0.2372"
      ]
     },
     "execution_count": 1,
     "metadata": {},
     "output_type": "execute_result"
    }
   ],
   "source": [
    "# Parameters\n",
    "starting_money = 100\n",
    "target_money = 100\n",
    "\n",
    "import random\n",
    "\n",
    "def coin_flip():\n",
    "    return random.choice([0, 1])\n",
    "\n",
    "def simulate_game(starting_money, target_money):\n",
    "    money = starting_money\n",
    "    for i in range(10):\n",
    "        bet = 1\n",
    "        if coin_flip():\n",
    "            money += bet  # Win: gain $1\n",
    "        else:\n",
    "            money -= bet  # Lose: lose $1\n",
    "    return money == target_money  # Returns True if we reached the target, False if bankrupt\n",
    "\n",
    "def run_simulation(starting_money, target_money, num_simulations):\n",
    "    wins = 0\n",
    "    for _ in range(num_simulations):\n",
    "        if simulate_game(starting_money, target_money):\n",
    "            wins += 1\n",
    "    probability = wins / num_simulations\n",
    "    return probability\n",
    "\n",
    "num_simulations = 10000  # Number of simulations to run\n",
    "\n",
    "run_simulation(starting_money, target_money, num_simulations)\n",
    "\n"
   ]
  },
  {
   "cell_type": "markdown",
   "metadata": {},
   "source": [
    "Mathematically,\n",
    "\n",
    "5 ups and 5 downs, so (10 choose 5) * (1/2)^10 = 252/1024=0.24"
   ]
  },
  {
   "cell_type": "markdown",
   "metadata": {},
   "source": []
  }
 ],
 "metadata": {
  "kernelspec": {
   "display_name": "Python 3",
   "language": "python",
   "name": "python3"
  },
  "language_info": {
   "codemirror_mode": {
    "name": "ipython",
    "version": 3
   },
   "file_extension": ".py",
   "mimetype": "text/x-python",
   "name": "python",
   "nbconvert_exporter": "python",
   "pygments_lexer": "ipython3",
   "version": "3.11.4"
  }
 },
 "nbformat": 4,
 "nbformat_minor": 2
}

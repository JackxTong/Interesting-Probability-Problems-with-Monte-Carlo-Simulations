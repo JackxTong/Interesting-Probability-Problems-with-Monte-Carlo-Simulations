{
 "cells": [
  {
   "cell_type": "markdown",
   "metadata": {},
   "source": [
    "The game strategy is the classic \"Martingale\" strategy where the player doubles their bet after every loss.\n",
    "\n",
    "\n",
    "Starting bet is $1, and the player doubles their bet after each loss until they win.\n",
    "\n",
    "Giving a starting bankroll is $63, what's the expected profit?\n"
   ]
  },
  {
   "cell_type": "code",
   "execution_count": 11,
   "metadata": {},
   "outputs": [
    {
     "data": {
      "text/plain": [
       "-0.015872"
      ]
     },
     "execution_count": 11,
     "metadata": {},
     "output_type": "execute_result"
    }
   ],
   "source": [
    "\n",
    "import random\n",
    "\n",
    "def martingale_strategy(bankroll, initial_bet=1):\n",
    "    bet = initial_bet\n",
    "    while bankroll >= bet:\n",
    "        bankroll -= bet\n",
    "        toss_result = random.choice([0, 1])\n",
    "        # print(toss_result, bankroll)\n",
    "        if toss_result == 1:  # Game ends\n",
    "            return bankroll + bet * 2\n",
    "        else:\n",
    "            bet *= 2\n",
    "\n",
    "    return bankroll\n",
    "\n",
    "bankroll = 63\n",
    "profits = []\n",
    "N = 1000000\n",
    "for _ in range(N):\n",
    "    profits.append(martingale_strategy(bankroll) - bankroll)\n",
    "\n",
    "sum(profits)/N\n"
   ]
  },
  {
   "cell_type": "code",
   "execution_count": 10,
   "metadata": {},
   "outputs": [
    {
     "name": "stdout",
     "output_type": "stream",
     "text": [
      "64\n",
      "64\n",
      "64\n",
      "64\n",
      "64\n",
      "64\n",
      "64\n",
      "64\n",
      "64\n",
      "64\n"
     ]
    },
    {
     "data": {
      "text/plain": [
       "1.0"
      ]
     },
     "execution_count": 10,
     "metadata": {},
     "output_type": "execute_result"
    }
   ],
   "source": [
    "import random\n",
    "\n",
    "def martingale_strategy(bankroll, initial_bet=1):\n",
    "    bet = initial_bet\n",
    "    while bankroll >= bet:\n",
    "        bankroll -= bet\n",
    "        toss_result = random.choice([0, 1])\n",
    "        # print(toss_result, bankroll)\n",
    "        if toss_result == 1:  # Game ends\n",
    "            print(bankroll + bet * 2)\n",
    "            return bankroll + bet * 2\n",
    "        else:\n",
    "            bet *= 2\n",
    "\n",
    "    return bankroll\n",
    "\n",
    "bankroll = 63\n",
    "profits = []\n",
    "N = 10\n",
    "for _ in range(N):\n",
    "    profits.append(martingale_strategy(bankroll) - bankroll)\n",
    "\n",
    "sum(profits)/N"
   ]
  },
  {
   "cell_type": "markdown",
   "metadata": {},
   "source": [
    "Consider the gamber starting with N.\n",
    "\n",
    "After 1st bet (bet 1): 1/2 chance ending up with N+1, 1/2 chance ending up with N-1, and goes to 2nd bet.\n",
    "\n",
    "After 2nd bet (bet 2): 1/2 chance ending up with N-1+2=N+1, 1/2 chance ending up with N-3, and goes to 3rd bet.\n",
    "\n",
    "After 3rd bet (bet 4): 1/2 chance ending up with N-3+4=N+1, 1/2 chance ending up with N-7, and goes to 4th bet.\n",
    "\n",
    "......\n",
    "\n",
    "After $n^{th}$ bet (bet $ 2^{n-1} $ ): 1/2 chance ending up with $ N-1-2-4-...- 2^{n-1}  = N - ( 2^{n}  - 1) $\n",
    "\n",
    "So expected PnL = $ 1 \\times (1/2 + (1/2)^2 + ... + (1/2)^n) - ( 2^{n}  - 1) \\times (1/2)^n $\n",
    "\n",
    " = $ [1 - (1/2)^{n}] - (1 - (1/2)^n) $\n",
    "\n",
    "= 0\n",
    "\n",
    "When the guy has 63 < 2^6, can afford 6 bets. \n",
    "\n",
    "The guy will go bankrupt if losing 6 bets with a 1/64 chance, or earn 1 with 63/64 chance, so E[PnL] = -63 * 1/64 + 63/64 = 0"
   ]
  },
  {
   "cell_type": "markdown",
   "metadata": {},
   "source": [
    "# Jane Street version\n",
    "\n",
    "If outcome matches bet, get double the bet, else lose the bet. Whenever the gambler loses the bet, he triples the amount of bet until winning\n",
    "\n"
   ]
  },
  {
   "cell_type": "markdown",
   "metadata": {},
   "source": []
  }
 ],
 "metadata": {
  "kernelspec": {
   "display_name": "Python 3",
   "language": "python",
   "name": "python3"
  },
  "language_info": {
   "codemirror_mode": {
    "name": "ipython",
    "version": 3
   },
   "file_extension": ".py",
   "mimetype": "text/x-python",
   "name": "python",
   "nbconvert_exporter": "python",
   "pygments_lexer": "ipython3",
   "version": "3.11.4"
  }
 },
 "nbformat": 4,
 "nbformat_minor": 2
}

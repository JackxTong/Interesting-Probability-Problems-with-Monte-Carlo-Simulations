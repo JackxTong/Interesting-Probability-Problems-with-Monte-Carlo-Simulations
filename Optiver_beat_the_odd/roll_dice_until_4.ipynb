{
 "cells": [
  {
   "cell_type": "markdown",
   "metadata": {},
   "source": [
    "How many times roll a dice until a 4 appears?\n",
    "\n",
    "Mathematically this is \n",
    "\n",
    "$$\n",
    "1 \\times 1/6 + 2 \\times 5/6 \\times 1/6 + 3 \\times (5/6)^2 \\times 1/6 + ... \\\\\n",
    "\n",
    "= \\frac{1}{6} \\sum_{n=1}^{\\infty} n (\\frac{5}{6})^{n-1} \\\\\n",
    "\n",
    "= \\frac{1}{6} \\times 36 = 6\n",
    "$$"
   ]
  },
  {
   "cell_type": "code",
   "execution_count": 14,
   "metadata": {},
   "outputs": [
    {
     "data": {
      "text/plain": [
       "6.000000000000001"
      ]
     },
     "execution_count": 14,
     "metadata": {},
     "output_type": "execute_result"
    }
   ],
   "source": [
    "# compute sum\n",
    "S = 0\n",
    "for i in range(1000):\n",
    "    S += i * (5/6)**(i-1)\n",
    "1/6 * S"
   ]
  },
  {
   "cell_type": "code",
   "execution_count": 12,
   "metadata": {},
   "outputs": [
    {
     "data": {
      "text/plain": [
       "6.03105"
      ]
     },
     "execution_count": 12,
     "metadata": {},
     "output_type": "execute_result"
    }
   ],
   "source": [
    "import random\n",
    "\n",
    "counts = []\n",
    "N = 100000\n",
    "for _ in range(N):\n",
    "    count = 0\n",
    "    while random.choice(list(range(1,7))) != 4:\n",
    "        count += 1\n",
    "    counts.append(count+1) # plus final throw to get 4\n",
    "\n",
    "sum(counts)/N\n",
    "\n"
   ]
  },
  {
   "cell_type": "code",
   "execution_count": null,
   "metadata": {},
   "outputs": [],
   "source": []
  }
 ],
 "metadata": {
  "kernelspec": {
   "display_name": "Python 3",
   "language": "python",
   "name": "python3"
  },
  "language_info": {
   "codemirror_mode": {
    "name": "ipython",
    "version": 3
   },
   "file_extension": ".py",
   "mimetype": "text/x-python",
   "name": "python",
   "nbconvert_exporter": "python",
   "pygments_lexer": "ipython3",
   "version": "3.11.4"
  }
 },
 "nbformat": 4,
 "nbformat_minor": 2
}

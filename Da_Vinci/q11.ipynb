{
 "cells": [
  {
   "cell_type": "code",
   "execution_count": 1,
   "metadata": {},
   "outputs": [
    {
     "name": "stdout",
     "output_type": "stream",
     "text": [
      "Average number of cards needed to deal: 21.18616\n"
     ]
    }
   ],
   "source": [
    "import random\n",
    "\n",
    "# Function to simulate one game of dealing cards until two aces are seen\n",
    "def simulate_game():\n",
    "    deck = ['A'] * 4 + ['Other'] * 48  # 4 aces and 48 non-aces\n",
    "    random.shuffle(deck)\n",
    "    \n",
    "    ace_count = 0\n",
    "    cards_dealt = 0\n",
    "    \n",
    "    for card in deck:\n",
    "        cards_dealt += 1\n",
    "        if card == 'A':\n",
    "            ace_count += 1\n",
    "        if ace_count == 2:\n",
    "            break\n",
    "            \n",
    "    return cards_dealt\n",
    "\n",
    "# Simulate the game 1000 times and collect results\n",
    "num_simulations = 100000\n",
    "results = [simulate_game() for _ in range(num_simulations)]\n",
    "\n",
    "# Calculate average result\n",
    "average_cards_dealt = sum(results) / num_simulations\n",
    "\n",
    "print(f\"Average number of cards needed to deal: {average_cards_dealt}\")"
   ]
  },
  {
   "cell_type": "markdown",
   "metadata": {},
   "source": [
    "All cards except the four Aces are divided into 5 piles by the four Aces.\n",
    "\n",
    "By smmetry each pile is expected to be as large, so expect to have 48/5=9.6\n",
    "\n",
    "Hence takes 9.6+1+9.6=20.2 to reach second Ace."
   ]
  },
  {
   "cell_type": "markdown",
   "metadata": {},
   "source": []
  }
 ],
 "metadata": {
  "kernelspec": {
   "display_name": "Python 3",
   "language": "python",
   "name": "python3"
  },
  "language_info": {
   "codemirror_mode": {
    "name": "ipython",
    "version": 3
   },
   "file_extension": ".py",
   "mimetype": "text/x-python",
   "name": "python",
   "nbconvert_exporter": "python",
   "pygments_lexer": "ipython3",
   "version": "3.11.4"
  }
 },
 "nbformat": 4,
 "nbformat_minor": 2
}

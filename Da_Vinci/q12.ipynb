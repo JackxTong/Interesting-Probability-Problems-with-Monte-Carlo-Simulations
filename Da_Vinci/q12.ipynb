{
 "cells": [
  {
   "cell_type": "markdown",
   "metadata": {},
   "source": [
    "x + y + z = 100\n",
    "\n",
    "x + 2y + 3z = 100\n",
    "\n",
    "y + 2z = 100, also y+z+x = 100, so x = z\n",
    "\n",
    "We can have x=z=1 all the way up to x=z=49, as y needs to be positive. Hence 49"
   ]
  },
  {
   "cell_type": "code",
   "execution_count": 1,
   "metadata": {},
   "outputs": [
    {
     "name": "stdout",
     "output_type": "stream",
     "text": [
      "Triplets (x, y, z) that satisfy the equations:\n",
      "49\n"
     ]
    }
   ],
   "source": [
    "def find_triplets(a, b):\n",
    "    solutions = []\n",
    "    \n",
    "    # Iterate over possible values of z\n",
    "    for z in range(1, a):  # Since x, y, z are positive integers\n",
    "        # Iterate over possible values of y\n",
    "        for y in range(1, a - z):\n",
    "            # Solve for x using the first equation: x + y + z = a\n",
    "            x = a - y - z\n",
    "            \n",
    "            # Check if x is positive and satisfies the second equation\n",
    "            if x > 0 and x + 2*y + 3*z == b:\n",
    "                solutions.append((x, y, z))\n",
    "    \n",
    "    return solutions\n",
    "\n",
    "# Example usage:\n",
    "a = 100\n",
    "b = 200\n",
    "triplets = find_triplets(a, b)\n",
    "print(\"Triplets (x, y, z) that satisfy the equations:\")\n",
    "print(len(triplets))\n"
   ]
  },
  {
   "cell_type": "code",
   "execution_count": null,
   "metadata": {},
   "outputs": [],
   "source": []
  }
 ],
 "metadata": {
  "kernelspec": {
   "display_name": "Python 3",
   "language": "python",
   "name": "python3"
  },
  "language_info": {
   "codemirror_mode": {
    "name": "ipython",
    "version": 3
   },
   "file_extension": ".py",
   "mimetype": "text/x-python",
   "name": "python",
   "nbconvert_exporter": "python",
   "pygments_lexer": "ipython3",
   "version": "3.11.4"
  }
 },
 "nbformat": 4,
 "nbformat_minor": 2
}
